{
 "cells": [
  {
   "cell_type": "markdown",
   "metadata": {
    "id": "WtAZ_U0sIwRU"
   },
   "source": [
    "**Python Lists**\n",
    "\n",
    "A list in Python is a versatile, ordered, and mutable collection of items. It's a fundamental data structure used to store multiple values in a single variable. \\\\\n",
    "**Key Characteristics:** \\\\\n",
    "\n",
    "**Ordered:** Lists maintain the order in which elements are added, and this order is preserved unless explicitly modified. \\\\\n",
    "\n",
    "**Mutable:** You can change, add, or remove items from a list after it's created. \\\\\n",
    "\n",
    "**Heterogeneous:** Lists can contain elements of different data types, such as integers, strings, booleans, and even other lists. \\\\\n",
    "\n",
    "**Indexed:** Each element in a list has an index, starting from 0 for the first element. \\\\\n",
    "**Duplicates Allowed:** Lists can contain duplicate values. \\\\\n"
   ]
  },
  {
   "cell_type": "markdown",
   "metadata": {
    "id": "MjXoNl7pvzqe"
   },
   "source": [
    "**Creating Lists:** \\\\\n",
    "Lists are created using square brackets [], with elements separated by commas:"
   ]
  },
  {
   "cell_type": "code",
   "execution_count": 5,
   "metadata": {
    "colab": {
     "base_uri": "https://localhost:8080/"
    },
    "id": "HCWabd1LIz-J",
    "outputId": "1a74df61-024c-4f83-d83e-4352ff1e2aaa"
   },
   "outputs": [
    {
     "name": "stdout",
     "output_type": "stream",
     "text": [
      "['apple', 'banana', 'cherry']\n"
     ]
    }
   ],
   "source": [
    "mylist = [\"apple\", \"banana\", \"cherry\"]\n",
    "print(mylist)"
   ]
  },
  {
   "cell_type": "markdown",
   "metadata": {
    "id": "XYs3FSbgI9kg"
   },
   "source": [
    "**List** \\\\\n",
    "Lists are used to store multiple items in a single variable.\n",
    "\n",
    "Lists are one of 4 built-in data types in Python used to store collections of data, the other 3 are Tuple, Set, and Dictionary, all with different qualities and usage.\n",
    "\n",
    "Lists are created using square brackets:"
   ]
  },
  {
   "cell_type": "code",
   "execution_count": null,
   "metadata": {
    "colab": {
     "base_uri": "https://localhost:8080/"
    },
    "id": "UBFIdLfFI5Sv",
    "outputId": "bdd2d40f-6d6a-4189-953e-e59e842374ba"
   },
   "outputs": [
    {
     "name": "stdout",
     "output_type": "stream",
     "text": [
      "['apple', 'banana', 'cherry']\n"
     ]
    }
   ],
   "source": [
    "thislist = [\"apple\", \"banana\", \"cherry\"]\n",
    "print(thislist)"
   ]
  },
  {
   "cell_type": "markdown",
   "metadata": {
    "id": "lbNDor0CJSDb"
   },
   "source": [
    "**List Items** \\\\\n",
    "List items are ordered, changeable, and allow duplicate values.\n",
    "\n",
    "List items are indexed, the first item has index [0], the second item has index etc."
   ]
  },
  {
   "cell_type": "markdown",
   "metadata": {
    "id": "XwluXPqbLRR7"
   },
   "source": [
    "**Ordered** \\\\\n",
    "When we say that lists are ordered, it means that the items have a defined order, and that order will not change.\n",
    "\n",
    "If you add new items to a list, the new items will be placed at the end of the list."
   ]
  },
  {
   "cell_type": "markdown",
   "metadata": {
    "id": "9klo1KB8L-gj"
   },
   "source": [
    "**Changeable** \\\\\n",
    "The list is changeable, meaning that we can change, add, and remove items in a list after it has been created."
   ]
  },
  {
   "cell_type": "code",
   "execution_count": null,
   "metadata": {
    "colab": {
     "base_uri": "https://localhost:8080/"
    },
    "id": "e6dxh8d7JLUn",
    "outputId": "13b7db78-5262-478b-b0c9-3470d03fe980"
   },
   "outputs": [
    {
     "name": "stdout",
     "output_type": "stream",
     "text": [
      "['apple', 'banana', 'cherry', 'apple', 'cherry']\n"
     ]
    }
   ],
   "source": [
    "thislist = [\"apple\", \"banana\", \"cherry\", \"apple\", \"cherry\"]\n",
    "print(thislist)"
   ]
  },
  {
   "cell_type": "markdown",
   "metadata": {
    "id": "FVCOPkaIMQWs"
   },
   "source": [
    "**Python - Access List Items** \\\\\n",
    "List items are indexed and you can access them by referring to the index number:\n",
    "\n"
   ]
  },
  {
   "cell_type": "code",
   "execution_count": 1,
   "metadata": {
    "colab": {
     "base_uri": "https://localhost:8080/"
    },
    "id": "fgagvCsKMHRA",
    "outputId": "a478b41f-bb3b-47a8-ab27-41a656c4a3b8"
   },
   "outputs": [
    {
     "name": "stdout",
     "output_type": "stream",
     "text": [
      "cherry\n"
     ]
    }
   ],
   "source": [
    "thislist = [\"apple\", \"banana\", \"cherry\"]\n",
    "print(thislist[2])"
   ]
  },
  {
   "cell_type": "markdown",
   "metadata": {
    "id": "028o8ZhJNEZ6"
   },
   "source": [
    "**Negative Indexing** \\\\\n",
    "Negative indexing means start from the end\n",
    "\n",
    "-1 refers to the last item, -2 refers to the second last item etc."
   ]
  },
  {
   "cell_type": "code",
   "execution_count": 4,
   "metadata": {
    "colab": {
     "base_uri": "https://localhost:8080/"
    },
    "id": "QSFU50nHMnEP",
    "outputId": "a9190a54-d009-43f1-ce1d-860233c4ca14"
   },
   "outputs": [
    {
     "name": "stdout",
     "output_type": "stream",
     "text": [
      "apple\n"
     ]
    }
   ],
   "source": [
    "thislist = [\"apple\", \"banana\", \"cherry\"]\n",
    "print(thislist[-3])"
   ]
  },
  {
   "cell_type": "markdown",
   "metadata": {
    "id": "U7xcIlZvNnsk"
   },
   "source": [
    "**Range of Indexes** \\\\\n",
    "You can specify a range of indexes by specifying where to start and where to end the range.\n",
    "\n",
    "When specifying a range, the return value will be a new list with the specified items."
   ]
  },
  {
   "cell_type": "code",
   "execution_count": 6,
   "metadata": {
    "colab": {
     "base_uri": "https://localhost:8080/"
    },
    "id": "OBlZ6-A2Nhz9",
    "outputId": "e338bd54-a418-4968-cf0c-00ad58486248"
   },
   "outputs": [
    {
     "name": "stdout",
     "output_type": "stream",
     "text": [
      "['banana', 'cherry', 'orange', 'kiwi']\n"
     ]
    }
   ],
   "source": [
    "thislist = [\"apple\", \"banana\", \"cherry\", \"orange\", \"kiwi\", \"melon\", \"mango\"]\n",
    "print(thislist[1:5])  # Note: The search will start at index 2 (included) and end at index 5 (not included).\n",
    "\n",
    "# Remember that the first item has index 0.\n",
    "\n"
   ]
  },
  {
   "cell_type": "code",
   "execution_count": 7,
   "metadata": {
    "colab": {
     "base_uri": "https://localhost:8080/"
    },
    "id": "hJJWKne0NvgU",
    "outputId": "2cf4869f-aed0-4eeb-a775-1f06205a9452"
   },
   "outputs": [
    {
     "name": "stdout",
     "output_type": "stream",
     "text": [
      "['apple', 'banana']\n"
     ]
    }
   ],
   "source": [
    "thislist = [\"apple\", \"banana\", \"cherry\", \"orange\", \"kiwi\", \"melon\", \"mango\"]\n",
    "print(thislist[:2])"
   ]
  },
  {
   "cell_type": "code",
   "execution_count": 8,
   "metadata": {
    "colab": {
     "base_uri": "https://localhost:8080/"
    },
    "id": "XlW9dK-GOFTR",
    "outputId": "475e26c0-4f85-4327-c1ac-d13f78c96756"
   },
   "outputs": [
    {
     "name": "stdout",
     "output_type": "stream",
     "text": [
      "['cherry', 'orange', 'kiwi', 'melon', 'mango']\n"
     ]
    }
   ],
   "source": [
    "thislist = [\"apple\", \"banana\", \"cherry\", \"orange\", \"kiwi\", \"melon\", \"mango\"]\n",
    "print(thislist[2:])  # returns the items from \"cherry\" to the end"
   ]
  },
  {
   "cell_type": "markdown",
   "metadata": {
    "id": "YXTMBhDNOc1t"
   },
   "source": [
    "**Range of Negative Indexes** \\\\\n",
    "Specify negative indexes if you want to start the search from the end of the list:\n"
   ]
  },
  {
   "cell_type": "code",
   "execution_count": 9,
   "metadata": {
    "colab": {
     "base_uri": "https://localhost:8080/"
    },
    "id": "KC0yTWBMOWDs",
    "outputId": "15662105-b745-4adf-d912-7d1ffd86fcc4"
   },
   "outputs": [
    {
     "name": "stdout",
     "output_type": "stream",
     "text": [
      "['melon']\n"
     ]
    }
   ],
   "source": [
    "thislist = [\"apple\", \"banana\", \"cherry\", \"orange\", \"kiwi\", \"melon\", \"mango\"]\n",
    "print(thislist[-2:-1])  #  returns the items from \"orange\" (-4) to, but NOT including \"mango\" (-1)"
   ]
  },
  {
   "cell_type": "markdown",
   "metadata": {
    "id": "j4CRnqHCOvGA"
   },
   "source": [
    "**Check if Item Exists** \\\\\n",
    "To determine if a specified item is present in a list use the in keyword:"
   ]
  },
  {
   "cell_type": "code",
   "execution_count": 19,
   "metadata": {
    "id": "g8TUM5jEOolK"
   },
   "outputs": [],
   "source": [
    "#Check if \"apple\" is present in the list:\n",
    "\n",
    "thislist = [\"apple\", \"banana\", \"cherry\"]\n",
    "if \"tomato\" in thislist:\n",
    "    print(\"No, 'apple' is in the fruits list\")"
   ]
  },
  {
   "cell_type": "markdown",
   "metadata": {
    "id": "tG-_A5T5PIyU"
   },
   "source": [
    "**Python - Change List Items** \\\\\n",
    "Change Item Value \\\\\n",
    "To change the value of a specific item, refer to the index number:"
   ]
  },
  {
   "cell_type": "code",
   "execution_count": 16,
   "metadata": {
    "colab": {
     "base_uri": "https://localhost:8080/"
    },
    "id": "gzmLSuLhO_Rn",
    "outputId": "76469ce6-b0f1-43d5-d3a8-5c7fce0b066b"
   },
   "outputs": [
    {
     "name": "stdout",
     "output_type": "stream",
     "text": [
      "['apple', 'blackcurrant', 'cherry']\n"
     ]
    }
   ],
   "source": [
    "thislist = [\"apple\", \"banana\", \"cherry\"]\n",
    "thislist[1] = \"blackcurrant\"\n",
    "print(thislist)"
   ]
  },
  {
   "cell_type": "markdown",
   "metadata": {
    "id": "3qJfpgHnPY2i"
   },
   "source": [
    "**Change a Range of Item Values** \\\\\n",
    "To change the value of items within a specific range, define a list with the new values, and refer to the range of index numbers where you want to insert the new values:\n",
    "\n"
   ]
  },
  {
   "cell_type": "code",
   "execution_count": null,
   "metadata": {
    "colab": {
     "base_uri": "https://localhost:8080/"
    },
    "id": "MI1IKheOPVCn",
    "outputId": "032475d0-32c7-4441-929c-bf31ff85ab4f"
   },
   "outputs": [
    {
     "name": "stdout",
     "output_type": "stream",
     "text": [
      "['apple', 'blackcurrant', 'watermelon', 'orange', 'kiwi', 'mango']\n"
     ]
    }
   ],
   "source": [
    "thislist = [\"apple\", \"banana\", \"cherry\", \"orange\", \"kiwi\", \"mango\"]\n",
    "thislist[1:3] = [\"blackcurrant\", \"watermelon\"]\n",
    "print(thislist)"
   ]
  },
  {
   "cell_type": "markdown",
   "metadata": {
    "id": "pnDYDc3CP12R"
   },
   "source": [
    "If you insert more items than you replace, the new items will be inserted where you specified, and the remaining items will move accordingly:\n",
    "\n"
   ]
  },
  {
   "cell_type": "code",
   "execution_count": null,
   "metadata": {
    "colab": {
     "base_uri": "https://localhost:8080/"
    },
    "id": "Qt0NYucaPjyX",
    "outputId": "f0fbd0aa-14ad-4e9c-8682-5d3347dfaa4b"
   },
   "outputs": [
    {
     "name": "stdout",
     "output_type": "stream",
     "text": [
      "['apple', 'blackcurrant', 'watermelon', 'cherry']\n"
     ]
    }
   ],
   "source": [
    "#Change the second value by replacing it with two new values:\n",
    "\n",
    "thislist = [\"apple\", \"banana\", \"cherry\"]\n",
    "thislist[1:2] = [\"blackcurrant\", \"watermelon\"]\n",
    "print(thislist)"
   ]
  },
  {
   "cell_type": "code",
   "execution_count": null,
   "metadata": {
    "colab": {
     "base_uri": "https://localhost:8080/"
    },
    "id": "tqWqs69pQBAm",
    "outputId": "f477304e-0f99-4f49-b9a8-12e341fc0313"
   },
   "outputs": [
    {
     "name": "stdout",
     "output_type": "stream",
     "text": [
      "['apple', 'watermelon']\n"
     ]
    }
   ],
   "source": [
    "# Change the second and third value by replacing it with one value:\n",
    "\n",
    "thislist = [\"apple\", \"banana\", \"cherry\"]\n",
    "thislist[1:3] = [\"watermelon\"]\n",
    "print(thislist)"
   ]
  },
  {
   "cell_type": "markdown",
   "metadata": {
    "id": "PLiuahYoQTnz"
   },
   "source": [
    "**Insert Items** \\\\\n",
    "To insert a new list item, without replacing any of the existing values, we can use the insert() method.\n",
    "\n",
    "The insert() method inserts an item at the specified index:"
   ]
  },
  {
   "cell_type": "code",
   "execution_count": 24,
   "metadata": {
    "colab": {
     "base_uri": "https://localhost:8080/"
    },
    "id": "vpApKO7JQKZ2",
    "outputId": "591c2cc4-2a85-4bbb-a58c-aa282e1bf47e"
   },
   "outputs": [
    {
     "name": "stdout",
     "output_type": "stream",
     "text": [
      "['apple', 'banana', 'watermelon', 'cherry']\n"
     ]
    }
   ],
   "source": [
    "#Insert \"watermelon\" as the third item:\n",
    "\n",
    "thislist = [\"apple\", \"banana\", \"cherry\"]\n",
    "#thislist.insert(2, \"watermelon\")\n",
    "thislist.insert(2, \"watermelon\")\n",
    "\n",
    "print(thislist)"
   ]
  },
  {
   "cell_type": "markdown",
   "metadata": {
    "id": "kONfp3w5Qzmj"
   },
   "source": [
    "**Python - Add List Items**"
   ]
  },
  {
   "cell_type": "code",
   "execution_count": null,
   "metadata": {
    "colab": {
     "base_uri": "https://localhost:8080/"
    },
    "id": "xUZb8_QeQcu2",
    "outputId": "9707c7c5-aafe-4630-e79c-38a14c06ce5f"
   },
   "outputs": [
    {
     "name": "stdout",
     "output_type": "stream",
     "text": [
      "['apple', 'banana', 'cherry', 'orange']\n"
     ]
    }
   ],
   "source": [
    "# Append Items\n",
    "# To add an item to the end of the list, use the append() method:\n",
    "\n",
    "#Using the append() method to append an item:\n",
    "\n",
    "thislist = [\"apple\", \"banana\", \"cherry\"]\n",
    "thislist.append(\"orange\")\n",
    "print(thislist)"
   ]
  },
  {
   "cell_type": "markdown",
   "metadata": {
    "id": "jB2wG7bwRHP8"
   },
   "source": [
    "**Insert Items**  \\\\\n",
    "To insert a list item at a specified index, use the insert() method.\n",
    "\n",
    "The insert() method inserts an item at the specified index:"
   ]
  },
  {
   "cell_type": "code",
   "execution_count": null,
   "metadata": {
    "colab": {
     "base_uri": "https://localhost:8080/"
    },
    "id": "3ajl2yxARB1-",
    "outputId": "d5186bd0-5fec-4739-c0c2-144e3387058b"
   },
   "outputs": [
    {
     "name": "stdout",
     "output_type": "stream",
     "text": [
      "['apple', 'orange', 'banana', 'cherry']\n"
     ]
    }
   ],
   "source": [
    "#Insert an item as the second position:\n",
    "\n",
    "thislist = [\"apple\", \"banana\", \"cherry\"]\n",
    "thislist.insert(1, \"orange\")\n",
    "print(thislist)"
   ]
  },
  {
   "cell_type": "markdown",
   "metadata": {
    "id": "EBaw_8MXRYXR"
   },
   "source": [
    "**Extend List** \\\\\n",
    "To append elements from another list to the current list, use the extend() method."
   ]
  },
  {
   "cell_type": "code",
   "execution_count": 25,
   "metadata": {
    "colab": {
     "base_uri": "https://localhost:8080/"
    },
    "id": "cFvL9scNRRDc",
    "outputId": "3d8fd096-7643-43af-88e3-383520bd6d9c"
   },
   "outputs": [
    {
     "name": "stdout",
     "output_type": "stream",
     "text": [
      "['apple', 'banana', 'cherry', 'mango', 'pineapple', 'cherry']\n"
     ]
    }
   ],
   "source": [
    "#Add the elements of tropical to thislist:\n",
    "\n",
    "thislist = [\"apple\", \"banana\", \"cherry\"]\n",
    "tropical = [\"mango\", \"pineapple\", \"cherry\"]\n",
    "thislist.extend(tropical)\n",
    "print(thislist)"
   ]
  },
  {
   "cell_type": "markdown",
   "metadata": {
    "id": "6UFrhu35Rmkl"
   },
   "source": [
    "**Add Any Iterable** \\\\\n",
    "The extend() method does not have to append lists, you can add any iterable object (tuples, sets, dictionaries etc.).\n",
    "\n"
   ]
  },
  {
   "cell_type": "code",
   "execution_count": null,
   "metadata": {
    "colab": {
     "base_uri": "https://localhost:8080/"
    },
    "id": "773_aApkRiX0",
    "outputId": "f1201d2f-cd71-472c-85bd-80dc65cc26f3"
   },
   "outputs": [
    {
     "name": "stdout",
     "output_type": "stream",
     "text": [
      "['apple', 'banana', 'cherry', 'kiwi', 'orange']\n"
     ]
    }
   ],
   "source": [
    "#Add elements of a tuple to a list:\n",
    "\n",
    "thislist = [\"apple\", \"banana\", \"cherry\"]\n",
    "thistuple = (\"kiwi\", \"orange\")\n",
    "thislist.extend(thistuple)\n",
    "print(thislist)"
   ]
  },
  {
   "cell_type": "markdown",
   "metadata": {
    "id": "R4oDoXj8SFAc"
   },
   "source": [
    "**Python - Remove List Items** \\\\\n",
    "Remove Specified Item\n",
    "The remove() method removes the specified item.\n",
    "\n"
   ]
  },
  {
   "cell_type": "code",
   "execution_count": null,
   "metadata": {
    "colab": {
     "base_uri": "https://localhost:8080/"
    },
    "id": "uEbSQZ2HRt6m",
    "outputId": "c87c2c2e-1a79-4375-d8b3-4229f9f53cb6"
   },
   "outputs": [
    {
     "name": "stdout",
     "output_type": "stream",
     "text": [
      "['apple', 'cherry']\n"
     ]
    }
   ],
   "source": [
    "thislist = [\"apple\", \"banana\", \"cherry\"]\n",
    "thislist.remove(\"banana\")\n",
    "print(thislist)"
   ]
  },
  {
   "cell_type": "code",
   "execution_count": 31,
   "metadata": {
    "colab": {
     "base_uri": "https://localhost:8080/"
    },
    "id": "ZzFjnjV_SNuf",
    "outputId": "0ff66654-7484-4a19-f360-1a0fdaf31b7b"
   },
   "outputs": [
    {
     "name": "stdout",
     "output_type": "stream",
     "text": [
      "['apple', 'banana', 'cherry', 'banana', 'kiwi']\n"
     ]
    }
   ],
   "source": [
    "# If there are more than one item with the specified value, the remove() method removes the first occurrence:\n",
    "\n",
    "# Remove the first occurrence of \"banana\":\n",
    "\n",
    "thislist = [\"apple\", \"banana\", \"banana\", \"cherry\", \"banana\", \"kiwi\"]\n",
    "thislist.remove(\"banana\")\n",
    "print(thislist)"
   ]
  },
  {
   "cell_type": "markdown",
   "metadata": {
    "id": "MObFTwihSfAr"
   },
   "source": [
    "**Remove Specified Index** \\\\\n",
    "The pop() method removes the specified index.\n",
    "\n"
   ]
  },
  {
   "cell_type": "code",
   "execution_count": null,
   "metadata": {
    "colab": {
     "base_uri": "https://localhost:8080/"
    },
    "id": "eU3p8Oh6SbnM",
    "outputId": "e62b4026-f8b4-4e6d-e674-b8531866efaf"
   },
   "outputs": [
    {
     "name": "stdout",
     "output_type": "stream",
     "text": [
      "['apple', 'cherry']\n"
     ]
    }
   ],
   "source": [
    "# Remove the second item:\n",
    "\n",
    "thislist = [\"apple\", \"banana\", \"cherry\"]\n",
    "thislist.pop(1)\n",
    "print(thislist)"
   ]
  },
  {
   "cell_type": "code",
   "execution_count": 27,
   "metadata": {
    "colab": {
     "base_uri": "https://localhost:8080/"
    },
    "id": "rofgkM24SnNA",
    "outputId": "b7f75b1c-5905-4055-c2f6-a63e9eefc798"
   },
   "outputs": [
    {
     "name": "stdout",
     "output_type": "stream",
     "text": [
      "['apple', 'banana']\n"
     ]
    }
   ],
   "source": [
    "# If you do not specify the index, the pop() method removes the last item.\n",
    "# Remove the last item:\n",
    "\n",
    "thislist = [\"apple\", \"banana\", \"cherry\"]\n",
    "thislist.pop()\n",
    "print(thislist)\n"
   ]
  },
  {
   "cell_type": "code",
   "execution_count": 31,
   "metadata": {
    "colab": {
     "base_uri": "https://localhost:8080/"
    },
    "id": "eZCq_-0VSvfJ",
    "outputId": "0fee47a2-085a-45e1-ac94-21ebb851800c"
   },
   "outputs": [
    {
     "name": "stdout",
     "output_type": "stream",
     "text": [
      "['banana', 'cherry']\n"
     ]
    }
   ],
   "source": [
    "# The del keyword also removes the specified index:\n",
    "\n",
    "# Remove the first item:\n",
    "\n",
    "thislist = [\"apple\", \"banana\", \"cherry\"]\n",
    "del thislist[0]\n",
    "print(thislist)"
   ]
  },
  {
   "cell_type": "code",
   "execution_count": 34,
   "metadata": {
    "id": "oa4i-qYrS79u"
   },
   "outputs": [],
   "source": [
    "# The del keyword can also delete the list completely.\n",
    "# Delete the entire list:\n",
    "\n",
    "thislist = [\"apple\", \"banana\", \"cherry\"]\n",
    "del thislist\n"
   ]
  },
  {
   "cell_type": "code",
   "execution_count": 35,
   "metadata": {
    "id": "ro9nlpIYoJhk"
   },
   "outputs": [],
   "source": [
    "thislist = [\"apple\", \"banana\"]\n",
    "del thislist"
   ]
  },
  {
   "cell_type": "markdown",
   "metadata": {
    "id": "9Gf2IrCOTMZB"
   },
   "source": [
    "**Clear the List** \\\\\n",
    "The clear() method empties the list.\n",
    "\n",
    "The list still remains, but it has no content."
   ]
  },
  {
   "cell_type": "code",
   "execution_count": null,
   "metadata": {
    "colab": {
     "base_uri": "https://localhost:8080/"
    },
    "id": "_wNT18wmTHqC",
    "outputId": "d94368b4-8a59-43ae-b827-9942f2580305"
   },
   "outputs": [
    {
     "name": "stdout",
     "output_type": "stream",
     "text": [
      "[]\n"
     ]
    }
   ],
   "source": [
    "# Clear the list content:\n",
    "\n",
    "thislist = [\"apple\", \"banana\", \"cherry\"]\n",
    "thislist.clear()\n",
    "print(thislist)"
   ]
  },
  {
   "cell_type": "markdown",
   "metadata": {
    "id": "utp6N9Z_TXw-"
   },
   "source": [
    "**Python - Loop Lists** \\\\\n",
    "Loop Through a List \\\\\n",
    "You can loop through the list items by using a for loop:\n",
    "\n"
   ]
  },
  {
   "cell_type": "code",
   "execution_count": 32,
   "metadata": {
    "colab": {
     "base_uri": "https://localhost:8080/"
    },
    "id": "qg_OaCL0TTO-",
    "outputId": "2f8cc4db-92d3-44b2-b365-b428aa7b88ee"
   },
   "outputs": [
    {
     "name": "stdout",
     "output_type": "stream",
     "text": [
      "apple\n",
      "banana\n",
      "cherry\n"
     ]
    }
   ],
   "source": [
    "# Print all items in the list, one by one:\n",
    "\n",
    "thislist = [\"apple\", \"banana\", \"cherry\"]\n",
    "for x in thislist:\n",
    "  print(x)"
   ]
  },
  {
   "cell_type": "markdown",
   "metadata": {
    "id": "zDOrK-xbTlY2"
   },
   "source": [
    "**Loop Through the Index Numbers** \\\\\n",
    "You can also loop through the list items by referring to their index number. \\\\\n",
    "\n",
    "Use the range() and len() functions to create a suitable iterable."
   ]
  },
  {
   "cell_type": "code",
   "execution_count": 34,
   "metadata": {
    "colab": {
     "base_uri": "https://localhost:8080/"
    },
    "id": "DcPD9dAKTh8-",
    "outputId": "4f2e45fb-afa1-4d30-c0b1-d98103a06d1d"
   },
   "outputs": [
    {
     "name": "stdout",
     "output_type": "stream",
     "text": [
      "3\n",
      "apple\n",
      "banana\n",
      "cherry\n"
     ]
    }
   ],
   "source": [
    "# Print all items by referring to their index number:\n",
    "\n",
    "thislist = [\"apple\", \"banana\", \"cherry\"]\n",
    "print(len(thislist))\n",
    "for i in range(len(thislist)):\n",
    "  print(thislist[i])"
   ]
  },
  {
   "cell_type": "markdown",
   "metadata": {
    "id": "dDT0znVDTvj4"
   },
   "source": [
    "**Using a While Loop** \\\\\n",
    "You can loop through the list items by using a while loop. \\\\\n",
    "\n",
    "Use the len() function to determine the length of the list, then start at 0 and loop your way through the list items by referring to their indexes. \\\\\n",
    "\n",
    "Remember to increase the index by 1 after each iteration."
   ]
  },
  {
   "cell_type": "code",
   "execution_count": null,
   "metadata": {
    "colab": {
     "base_uri": "https://localhost:8080/"
    },
    "id": "HbLtkWRCTr5r",
    "outputId": "4990ce35-76c5-4fb3-b195-f32db5e4cc57"
   },
   "outputs": [
    {
     "name": "stdout",
     "output_type": "stream",
     "text": [
      "apple\n",
      "banana\n",
      "cherry\n"
     ]
    }
   ],
   "source": [
    "# Print all items, using a while loop to go through all the index numbers\n",
    "\n",
    "thislist = [\"apple\", \"banana\", \"cherry\"]\n",
    "i = 0\n",
    "while i < len(thislist):\n",
    "  print(thislist[i])\n",
    "  i = i + 1"
   ]
  },
  {
   "cell_type": "markdown",
   "metadata": {
    "id": "VwpfCBcKT7Xg"
   },
   "source": [
    "**Looping Using List Comprehension**  \\\\\n",
    "List Comprehension offers the shortest syntax for looping through lists:"
   ]
  },
  {
   "cell_type": "code",
   "execution_count": null,
   "metadata": {
    "colab": {
     "base_uri": "https://localhost:8080/"
    },
    "id": "Dfzl2vbdT3Ex",
    "outputId": "3fb9b344-f761-4726-c823-5dc385552f21"
   },
   "outputs": [
    {
     "name": "stdout",
     "output_type": "stream",
     "text": [
      "apple\n",
      "banana\n",
      "cherry\n"
     ]
    },
    {
     "data": {
      "text/plain": [
       "[None, None, None]"
      ]
     },
     "execution_count": 34,
     "metadata": {},
     "output_type": "execute_result"
    }
   ],
   "source": [
    "# A short hand for loop that will print all items in a list:\n",
    "\n",
    "thislist = [\"apple\", \"banana\", \"cherry\"]\n",
    "[print(x) for x in thislist]"
   ]
  },
  {
   "cell_type": "markdown",
   "metadata": {
    "id": "uS_MFDC9UIoV"
   },
   "source": [
    "**Python - List Comprehension** \\\\\n",
    "\n",
    "List comprehension offers a shorter syntax when you want to create a new list based on the values of an existing list. \\\\\n",
    "\n",
    "Example:\n",
    "\n",
    "Based on a list of fruits, you want a new list, containing only the fruits with the letter \"a\" in the name. \\\\\n",
    "\n",
    "Without list comprehension you will have to write a for statement with a conditional test inside:"
   ]
  },
  {
   "cell_type": "code",
   "execution_count": null,
   "metadata": {
    "colab": {
     "base_uri": "https://localhost:8080/"
    },
    "id": "lrB0nkgRUDbY",
    "outputId": "0ca16ca8-610c-44b4-8e4e-1d547fc5681f"
   },
   "outputs": [
    {
     "name": "stdout",
     "output_type": "stream",
     "text": [
      "['apple', 'banana', 'mango']\n"
     ]
    }
   ],
   "source": [
    "fruits = [\"apple\", \"banana\", \"cherry\", \"kiwi\", \"mango\"]\n",
    "newlist = []\n",
    "\n",
    "for x in fruits:\n",
    "  if \"a\" in x:\n",
    "    newlist.append(x)\n",
    "\n",
    "print(newlist)"
   ]
  },
  {
   "cell_type": "code",
   "execution_count": 40,
   "metadata": {
    "colab": {
     "base_uri": "https://localhost:8080/"
    },
    "id": "nyd3PR_dUV54",
    "outputId": "0dccd554-96f4-4b61-8365-6fa19ea0880d"
   },
   "outputs": [
    {
     "name": "stdout",
     "output_type": "stream",
     "text": [
      "['apple', 'banana', 'mango']\n"
     ]
    }
   ],
   "source": [
    "# With list comprehension you can do all that with only one line of code:\n",
    "\n",
    "fruits = [\"apple\", \"banana\", \"cherry\", \"kiwi\", \"mango\"]\n",
    "\n",
    "newlist = [x for x in fruits if \"a\" in x]\n",
    "\n",
    "print(newlist)"
   ]
  },
  {
   "cell_type": "markdown",
   "metadata": {
    "id": "IurmsEJCUrMz"
   },
   "source": [
    "**Condition** \\\\\n",
    "The condition is like a filter that only accepts the items that evaluate to True.\n",
    "\n"
   ]
  },
  {
   "cell_type": "code",
   "execution_count": 42,
   "metadata": {
    "colab": {
     "base_uri": "https://localhost:8080/"
    },
    "id": "eL-2e_QeUeNg",
    "outputId": "be4435b3-1c7b-4634-e5c0-d873f9636521"
   },
   "outputs": [
    {
     "name": "stdout",
     "output_type": "stream",
     "text": [
      "['banana', 'cherry', 'kiwi', 'mango']\n"
     ]
    }
   ],
   "source": [
    "# Only accept items that are not \"apple\":\n",
    "\n",
    "newlist = [x for x in fruits if x != \"apple\"]\n",
    "print(newlist)"
   ]
  },
  {
   "cell_type": "markdown",
   "metadata": {
    "id": "SmsQMqyQU2tJ"
   },
   "source": [
    "The condition if x != \"apple\"  will return True for all elements other than \"apple\", making the new list contain all fruits except \"apple\".\n",
    "\n",
    "The condition is optional and can be omitted:"
   ]
  },
  {
   "cell_type": "code",
   "execution_count": null,
   "metadata": {
    "colab": {
     "base_uri": "https://localhost:8080/"
    },
    "id": "D_nBypT7UyYk",
    "outputId": "8cf72f3e-de21-498c-f61e-9e33d7005773"
   },
   "outputs": [
    {
     "name": "stdout",
     "output_type": "stream",
     "text": [
      "['apple', 'banana', 'cherry', 'kiwi', 'mango']\n"
     ]
    }
   ],
   "source": [
    "# With no if statement:\n",
    "\n",
    "newlist = [x for x in fruits]\n",
    "print(newlist)"
   ]
  },
  {
   "cell_type": "markdown",
   "metadata": {
    "id": "JY9aFhYzU2Kk"
   },
   "source": [
    "**Iterable** \\\\\n",
    "The iterable can be any iterable object, like a list, tuple, set etc."
   ]
  },
  {
   "cell_type": "code",
   "execution_count": 43,
   "metadata": {
    "id": "RMvj4RhhVPjF"
   },
   "outputs": [],
   "source": [
    "# You can use the range() function to create an iterable:\n",
    "\n",
    "newlist = [x for x in range(10)]"
   ]
  },
  {
   "cell_type": "code",
   "execution_count": 45,
   "metadata": {
    "colab": {
     "base_uri": "https://localhost:8080/"
    },
    "id": "ybpNkK8NVT-o",
    "outputId": "d049fdd7-e40c-4950-cd0c-3d3079cc722a"
   },
   "outputs": [
    {
     "name": "stdout",
     "output_type": "stream",
     "text": [
      "[0, 1, 2, 3, 4]\n"
     ]
    }
   ],
   "source": [
    "# Accept only numbers lower than 5:\n",
    "\n",
    "newlist = [x for x in range(10) if x < 5]\n",
    "print(newlist)"
   ]
  },
  {
   "cell_type": "markdown",
   "metadata": {
    "id": "godRdno7VdxU"
   },
   "source": [
    "**Expression** \\\\\n",
    "The expression is the current item in the iteration, but it is also the outcome, which you can manipulate before it ends up like a list item in the new list:"
   ]
  },
  {
   "cell_type": "code",
   "execution_count": 47,
   "metadata": {
    "colab": {
     "base_uri": "https://localhost:8080/"
    },
    "id": "8WOmcEUtVZCp",
    "outputId": "75548aa3-4401-4880-a6fa-7f1f737d27f3"
   },
   "outputs": [
    {
     "name": "stdout",
     "output_type": "stream",
     "text": [
      "['APPLE', 'BANANA', 'CHERRY', 'KIWI', 'MANGO']\n"
     ]
    }
   ],
   "source": [
    "# Set the values in the new list to upper case:\n",
    "\n",
    "newlist = [x.upper() for x in fruits]\n",
    "print(newlist)"
   ]
  },
  {
   "cell_type": "code",
   "execution_count": 48,
   "metadata": {
    "colab": {
     "base_uri": "https://localhost:8080/"
    },
    "id": "KkMFj-hYVjcl",
    "outputId": "237315ed-da11-405e-80b0-166a544a205e"
   },
   "outputs": [
    {
     "name": "stdout",
     "output_type": "stream",
     "text": [
      "['hello', 'hello', 'hello', 'hello', 'hello']\n"
     ]
    }
   ],
   "source": [
    "# Set all values in the new list to 'hello':\n",
    "\n",
    "newlist = ['hello' for x in fruits]\n",
    "print(newlist)"
   ]
  },
  {
   "cell_type": "code",
   "execution_count": null,
   "metadata": {
    "id": "jS1tx35kVmvH"
   },
   "outputs": [],
   "source": [
    "# Return \"orange\" instead of \"banana\":\n",
    "# \"Return the item if it is not banana, if it is banana return orange\".\n",
    "newlist = [x if x != \"banana\" else \"orange\" for x in fruits]"
   ]
  },
  {
   "cell_type": "markdown",
   "metadata": {
    "id": "yPC_nxoiWNxo"
   },
   "source": [
    "**Python - Sort Lists**"
   ]
  },
  {
   "cell_type": "markdown",
   "metadata": {
    "id": "m0ySwUx6mqP6"
   },
   "source": [
    "Sort List Alphanumerically \\\\\n",
    "List objects have a sort() method that will sort the list alphanumerically, ascending, by default:"
   ]
  },
  {
   "cell_type": "code",
   "execution_count": null,
   "metadata": {
    "colab": {
     "base_uri": "https://localhost:8080/"
    },
    "id": "T2YFaxDLmhsc",
    "outputId": "07b97b0c-a688-42ee-a9b8-9faea412e5fc"
   },
   "outputs": [
    {
     "name": "stdout",
     "output_type": "stream",
     "text": [
      "['banana', 'kiwi', 'mango', 'orange', 'pineapple']\n"
     ]
    }
   ],
   "source": [
    "thislist = [\"orange\", \"mango\", \"kiwi\", \"pineapple\", \"banana\"]\n",
    "thislist.sort()\n",
    "print(thislist)"
   ]
  },
  {
   "cell_type": "code",
   "execution_count": null,
   "metadata": {
    "colab": {
     "base_uri": "https://localhost:8080/"
    },
    "id": "98w7M1GDmu6Z",
    "outputId": "781f7879-b322-48a5-8dd3-3a6d79dc3f8d"
   },
   "outputs": [
    {
     "name": "stdout",
     "output_type": "stream",
     "text": [
      "[23, 50, 65, 82, 100]\n"
     ]
    }
   ],
   "source": [
    "# Sort the list numerically:\n",
    "\n",
    "thislist = [100, 50, 65, 82, 23]\n",
    "thislist.sort()\n",
    "print(thislist)"
   ]
  },
  {
   "cell_type": "markdown",
   "metadata": {
    "id": "58L0zyPcm5DQ"
   },
   "source": [
    "**Sort Descending** \\\\\n",
    "To sort descending, use the keyword argument reverse = True:"
   ]
  },
  {
   "cell_type": "code",
   "execution_count": 49,
   "metadata": {
    "colab": {
     "base_uri": "https://localhost:8080/"
    },
    "id": "MVvigAgSm1kb",
    "outputId": "89325914-f44a-488b-b8a0-56343e260a27"
   },
   "outputs": [
    {
     "name": "stdout",
     "output_type": "stream",
     "text": [
      "['pineapple', 'orange', 'mango', 'kiwi', 'banana']\n"
     ]
    }
   ],
   "source": [
    "# Sort the list descending:\n",
    "\n",
    "thislist = [\"orange\", \"mango\", \"kiwi\", \"pineapple\", \"banana\"]\n",
    "thislist.sort(reverse = True)\n",
    "print(thislist)"
   ]
  },
  {
   "cell_type": "code",
   "execution_count": 50,
   "metadata": {
    "colab": {
     "base_uri": "https://localhost:8080/"
    },
    "id": "CjnsaSR-nAQu",
    "outputId": "7c129553-a8e1-45d7-d382-e2cffafd1a04"
   },
   "outputs": [
    {
     "name": "stdout",
     "output_type": "stream",
     "text": [
      "[100, 82, 65, 50, 23]\n"
     ]
    }
   ],
   "source": [
    "# Sort the list descending:\n",
    "\n",
    "thislist = [100, 50, 65, 82, 23]\n",
    "thislist.sort(reverse = True)\n",
    "print(thislist)"
   ]
  },
  {
   "cell_type": "markdown",
   "metadata": {
    "id": "nPa86V0VnLc-"
   },
   "source": [
    "**Customize Sort Function** \\\\\n",
    "You can also customize your own function by using the keyword argument key = function. \\\\\n",
    "\n",
    "The function will return a number that will be used to sort the list (the lowest number first):"
   ]
  },
  {
   "cell_type": "code",
   "execution_count": 51,
   "metadata": {
    "colab": {
     "base_uri": "https://localhost:8080/"
    },
    "id": "4XridgWrnFrY",
    "outputId": "21743597-a245-46b9-ecf7-f16ac7c7def9"
   },
   "outputs": [
    {
     "name": "stdout",
     "output_type": "stream",
     "text": [
      "[100, 82, 65, 50, 23]\n"
     ]
    }
   ],
   "source": [
    "# Sort the list based on how close the number is to 50:\n",
    "\n",
    "def myfunc(n):\n",
    "  return abs(n - 100)\n",
    "\n",
    "thislist = [100, 50, 65, 82, 23]\n",
    "thislist.sort(key = myfunc)\n",
    "print(thislist)"
   ]
  },
  {
   "cell_type": "markdown",
   "metadata": {
    "id": "xcd5lSd6nWEt"
   },
   "source": [
    "**Case Insensitive Sort** \\\\\n",
    "By default the sort() method is case sensitive, resulting in all capital letters being sorted before lower case letters:"
   ]
  },
  {
   "cell_type": "code",
   "execution_count": 52,
   "metadata": {
    "colab": {
     "base_uri": "https://localhost:8080/"
    },
    "id": "rjzf3z3HnR1_",
    "outputId": "1c6fb885-76a9-4a60-a389-2b0112447f28"
   },
   "outputs": [
    {
     "name": "stdout",
     "output_type": "stream",
     "text": [
      "['Kiwi', 'Orange', 'banana', 'cherry']\n"
     ]
    }
   ],
   "source": [
    "# Case sensitive sorting can give an unexpected result:\n",
    "\n",
    "thislist = [\"banana\", \"Orange\", \"Kiwi\", \"cherry\"]\n",
    "thislist.sort()\n",
    "print(thislist)"
   ]
  },
  {
   "cell_type": "code",
   "execution_count": null,
   "metadata": {
    "colab": {
     "base_uri": "https://localhost:8080/"
    },
    "id": "JrX_GmF7nbvN",
    "outputId": "47aa2686-8419-45f3-c54c-01b8eb6bd2bc"
   },
   "outputs": [
    {
     "name": "stdout",
     "output_type": "stream",
     "text": [
      "['banana', 'cherry', 'Kiwi', 'Orange']\n"
     ]
    }
   ],
   "source": [
    "# Perform a case-insensitive sort of the list:\n",
    "\n",
    "thislist = [\"banana\", \"Orange\", \"Kiwi\", \"cherry\"]\n",
    "thislist.sort(key = str.lower)\n",
    "print(thislist)"
   ]
  },
  {
   "cell_type": "markdown",
   "metadata": {
    "id": "VLFax9Funq2y"
   },
   "source": [
    "**Reverse Order** \\\\\n",
    "What if you want to reverse the order of a list, regardless of the alphabet?\n",
    "\n",
    "The reverse() method reverses the current sorting order of the elements."
   ]
  },
  {
   "cell_type": "code",
   "execution_count": null,
   "metadata": {
    "colab": {
     "base_uri": "https://localhost:8080/"
    },
    "id": "7h8Dzc5HnoXg",
    "outputId": "5aaaf452-9171-40be-ff6f-86f04b2fb6ff"
   },
   "outputs": [
    {
     "name": "stdout",
     "output_type": "stream",
     "text": [
      "['cherry', 'Kiwi', 'Orange', 'banana']\n"
     ]
    }
   ],
   "source": [
    "# Reverse the order of the list items:\n",
    "\n",
    "thislist = [\"banana\", \"Orange\", \"Kiwi\", \"cherry\"]\n",
    "thislist.reverse()\n",
    "print(thislist)"
   ]
  },
  {
   "cell_type": "markdown",
   "metadata": {
    "id": "fBLFYZT2qsKB"
   },
   "source": [
    "**Python - Copy Lists**\n",
    "\n",
    "**Copy a List** \\\\\n",
    "You cannot copy a list simply by typing list2 = list1, because: list2 will only be a reference to list1, and changes made in list1 will automatically also be made in list2.\n",
    "\n",
    "**Use the copy() method** \\\\\n",
    "You can use the built-in List method copy() to copy a list."
   ]
  },
  {
   "cell_type": "code",
   "execution_count": null,
   "metadata": {
    "colab": {
     "base_uri": "https://localhost:8080/"
    },
    "id": "oGhpmHrhnvsQ",
    "outputId": "794e528d-b66f-46da-ee26-2ce75f6a2781"
   },
   "outputs": [
    {
     "name": "stdout",
     "output_type": "stream",
     "text": [
      "['apple', 'banana', 'cherry']\n"
     ]
    }
   ],
   "source": [
    "# Make a copy of a list with the copy() method:\n",
    "thislist = [\"apple\", \"banana\", \"cherry\"]\n",
    "mylist = thislist.copy()\n",
    "print(mylist)"
   ]
  },
  {
   "cell_type": "markdown",
   "metadata": {
    "id": "YFRiS7r3rNx4"
   },
   "source": [
    "**Use the list() method** \\\\\n",
    "Another way to make a copy is to use the built-in method list()."
   ]
  },
  {
   "cell_type": "code",
   "execution_count": 53,
   "metadata": {
    "colab": {
     "base_uri": "https://localhost:8080/"
    },
    "id": "A9bVN3PWq9-s",
    "outputId": "9610ab00-4b7d-46fb-b42a-bb0657f73a69"
   },
   "outputs": [
    {
     "name": "stdout",
     "output_type": "stream",
     "text": [
      "['apple', 'banana', 'cherry']\n"
     ]
    }
   ],
   "source": [
    "\n",
    "thislist = [\"apple\", \"banana\", \"cherry\"]\n",
    "mylist = list(thislist)\n",
    "print(mylist)"
   ]
  },
  {
   "cell_type": "markdown",
   "metadata": {
    "id": "xzlqQiairjqO"
   },
   "source": [
    "**Use the slice Operator** \\\\\n",
    "You can also make a copy of a list by using the : (slice) operator."
   ]
  },
  {
   "cell_type": "code",
   "execution_count": null,
   "metadata": {
    "colab": {
     "base_uri": "https://localhost:8080/"
    },
    "id": "q-e1XjcwrXFh",
    "outputId": "83c11fc5-c5b2-4d94-c68c-e2b627cbdf25"
   },
   "outputs": [
    {
     "name": "stdout",
     "output_type": "stream",
     "text": [
      "['apple', 'banana', 'cherry']\n"
     ]
    }
   ],
   "source": [
    "# Make a copy of a list with the : operator:\n",
    "\n",
    "thislist = [\"apple\", \"banana\", \"cherry\"]\n",
    "mylist = thislist[:]\n",
    "print(mylist)"
   ]
  },
  {
   "cell_type": "markdown",
   "metadata": {
    "id": "AN2jFAXrrzEt"
   },
   "source": [
    "**Python - Join Lists** \\\\\n",
    "\n",
    "**Join Two Lists**  \\\\\n",
    "\n",
    "There are several ways to join, or concatenate, two or more lists in Python.\n",
    "\n",
    "One of the easiest ways are by using the** + operator**.\n"
   ]
  },
  {
   "cell_type": "code",
   "execution_count": null,
   "metadata": {
    "colab": {
     "base_uri": "https://localhost:8080/"
    },
    "id": "X2bngyQrrpSa",
    "outputId": "c7265c52-8f8a-4f64-cdc6-72953d8b6633"
   },
   "outputs": [
    {
     "name": "stdout",
     "output_type": "stream",
     "text": [
      "['a', 'b', 'c', 1, 2, 3]\n"
     ]
    }
   ],
   "source": [
    "# Join two list:\n",
    "\n",
    "list1 = [\"a\", \"b\", \"c\"]\n",
    "list2 = [1, 2, 3]\n",
    "\n",
    "list3 = list1 + list2\n",
    "print(list3)"
   ]
  },
  {
   "cell_type": "code",
   "execution_count": null,
   "metadata": {
    "colab": {
     "base_uri": "https://localhost:8080/"
    },
    "id": "RUBJbIIEsHJ8",
    "outputId": "0bbef6c0-76c1-4c05-a3d9-f11db20290df"
   },
   "outputs": [
    {
     "name": "stdout",
     "output_type": "stream",
     "text": [
      "['a', 'b', 'c', 1, 2, 3]\n"
     ]
    }
   ],
   "source": [
    "# Append list2 into list1:\n",
    "\n",
    "list1 = [\"a\", \"b\" , \"c\"]\n",
    "list2 = [1, 2, 3]\n",
    "\n",
    "for x in list2:\n",
    "  list1.append(x)\n",
    "\n",
    "print(list1)"
   ]
  },
  {
   "cell_type": "code",
   "execution_count": null,
   "metadata": {
    "colab": {
     "base_uri": "https://localhost:8080/"
    },
    "id": "83b_2CflsMyo",
    "outputId": "b052d33b-95cb-443c-c68a-4069748b13f2"
   },
   "outputs": [
    {
     "name": "stdout",
     "output_type": "stream",
     "text": [
      "['a', 'b', 'c', 1, 2, 3]\n"
     ]
    }
   ],
   "source": [
    "# Or you can use the extend() method, where the purpose is to add elements from one list to another list:\n",
    "\n",
    "# Use the extend() method to add list2 at the end of list1:\n",
    "\n",
    "list1 = [\"a\", \"b\" , \"c\"]\n",
    "list2 = [1, 2, 3]\n",
    "\n",
    "list1.extend(list2)\n",
    "print(list1)\n"
   ]
  },
  {
   "cell_type": "markdown",
   "metadata": {
    "id": "o7TNYY-6sqNB"
   },
   "source": [
    "**List Methods** \\\\\n",
    "Python has a set of built-in methods that you can use on lists. \\\\\n",
    "\n",
    "**Method with Description ** \\\\\n",
    "append()\tAdds an element at the end of the list \\\\\n",
    "clear()\tRemoves all the elements from the list \\\\\n",
    "copy()\tReturns a copy of the list \\\\\n",
    "count()\tReturns the number of elements with the specified value \\\\\n",
    "extend()\tAdd the elements of a list (or any iterable), to the end of the current list \\\\\n",
    "index()\tReturns the index of the first element with the specified value \\\\\n",
    "insert()\tAdds an element at the specified position \\\\\n",
    "pop()\tRemoves the element at the specified position \\\\\n",
    "remove()\tRemoves the item with the specified value \\\\\n",
    "reverse()\tReverses the order of the list \\\\\n",
    "sort()\tSorts the list \\\\"
   ]
  },
  {
   "cell_type": "markdown",
   "metadata": {
    "id": "CnVfTPEmtKne"
   },
   "source": [
    "# Exercises\n",
    "\n"
   ]
  },
  {
   "cell_type": "code",
   "execution_count": null,
   "metadata": {
    "id": "Dd3ST5HXsZ_I"
   },
   "outputs": [],
   "source": [
    "# What will be the result of the following syntax:\n",
    "\n",
    "mylist = ['apple', 'banana', 'cherry']\n",
    "print(mylist[1])"
   ]
  },
  {
   "cell_type": "code",
   "execution_count": null,
   "metadata": {
    "id": "SJeIsSzUtMos"
   },
   "outputs": [],
   "source": [
    "# What will be the result of the following syntax:\n",
    "\n",
    "mylist = ['apple', 'banana', 'cherry']\n",
    "print(mylist[-1])\n",
    "\n"
   ]
  },
  {
   "cell_type": "code",
   "execution_count": 55,
   "metadata": {
    "colab": {
     "base_uri": "https://localhost:8080/"
    },
    "id": "bEeARtpOtmCK",
    "outputId": "f43e0052-c001-4017-bd08-bad817b9653e"
   },
   "outputs": [
    {
     "name": "stdout",
     "output_type": "stream",
     "text": [
      "banana\n",
      "['kiwi', 'banana', 'cherry']\n"
     ]
    }
   ],
   "source": [
    "# What will be the result of the following syntax:\n",
    "mylist = ['apple', 'banana', 'cherry']\n",
    "mylist[0] = 'kiwi'\n",
    "print(mylist[1])\n",
    "print(mylist)"
   ]
  },
  {
   "cell_type": "code",
   "execution_count": 56,
   "metadata": {
    "colab": {
     "base_uri": "https://localhost:8080/"
    },
    "id": "FvOOHIACtry9",
    "outputId": "1f8681e9-d99b-4010-ae97-bd3a3e70c6f5"
   },
   "outputs": [
    {
     "name": "stdout",
     "output_type": "stream",
     "text": [
      "apple\n",
      "['orange', 'apple', 'banana', 'cherry']\n"
     ]
    }
   ],
   "source": [
    "# What will be the result of the following syntax:\n",
    "mylist = ['apple', 'banana', 'cherry']\n",
    "mylist.insert(0, 'orange')\n",
    "print(mylist[1])\n",
    "print(mylist)\n",
    "\n"
   ]
  },
  {
   "cell_type": "code",
   "execution_count": null,
   "metadata": {
    "id": "RDcuZicQt3oh"
   },
   "outputs": [],
   "source": [
    "# What is a List method for removing list items?\n",
    "pop()\n",
    "push()\n",
    "delete()\n"
   ]
  },
  {
   "cell_type": "code",
   "execution_count": null,
   "metadata": {
    "id": "mVeVpsCJuAI0"
   },
   "outputs": [],
   "source": [
    "# What is a correct syntax for looping through the items of a list?"
   ]
  },
  {
   "cell_type": "markdown",
   "metadata": {
    "id": "m89px0-atyy0"
   },
   "source": [
    "![Screenshot from 2025-06-05 16-22-54.png](data:image/png;base64,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)"
   ]
  },
  {
   "cell_type": "code",
   "execution_count": 59,
   "metadata": {
    "colab": {
     "base_uri": "https://localhost:8080/"
    },
    "id": "k0qQMQU4uhPv",
    "outputId": "2b2ed4a6-71f1-4eb6-be25-93314401abdb"
   },
   "outputs": [
    {
     "name": "stdout",
     "output_type": "stream",
     "text": [
      "[]\n"
     ]
    }
   ],
   "source": [
    "# Consider the following code:\n",
    "fruits = ['apple', 'banana', 'cherry']\n",
    "newlist = [x for x in fruits if x == 'mouse']\n",
    "print(newlist)\n",
    "# What will be the value of newlist ?"
   ]
  },
  {
   "cell_type": "code",
   "execution_count": null,
   "metadata": {
    "id": "7RB45c6tutF5"
   },
   "outputs": [],
   "source": [
    "# What is a correct syntax for sorting a list?\n",
    "\n",
    "mylist.orderby(0)\n",
    "mylist.order()\n",
    "mylist.sort()"
   ]
  },
  {
   "cell_type": "code",
   "execution_count": null,
   "metadata": {
    "id": "XrxKVZjNu7pn"
   },
   "outputs": [],
   "source": [
    "# What is a correct syntax for making a copy of a list?\n",
    "\n",
    "list2 = list1\n",
    "list2 = list1.copy()\n",
    "list2.copy(list1)"
   ]
  },
  {
   "cell_type": "code",
   "execution_count": null,
   "metadata": {
    "id": "rs_OGu-VvAWt"
   },
   "outputs": [],
   "source": [
    "# What is a correct syntax for joining list1 and list2 into list3?\n",
    "\n",
    "list3 = join(list1, list2)\n",
    "list3 = list1 + list2\n",
    "list3 = [list1, list2]"
   ]
  },
  {
   "cell_type": "markdown",
   "metadata": {
    "id": "2Jx3U3DwaZa5"
   },
   "source": [
    "Q. 1 What’s the difference between pop() and remove() in Python lists?\n",
    "\n",
    "Q. 2 List comprehensions provide a concise way to create lists.\n",
    "     Create a list which stores the square values up to a given number N. Eg. L= [1,4,9,16], N=4.\n",
    "\n",
    "Q. 3. Given a list of few names. Print the initials of each name.\n",
    "\n"
   ]
  },
  {
   "cell_type": "code",
   "execution_count": 60,
   "metadata": {
    "colab": {
     "base_uri": "https://localhost:8080/"
    },
    "id": "n2j729n8eEvM",
    "outputId": "d201d168-dfa2-4f3d-ad61-b4ffe357b32c"
   },
   "outputs": [
    {
     "name": "stdout",
     "output_type": "stream",
     "text": [
      "30\n",
      "[10, 20, 40]\n",
      "[10, 30, 20]\n"
     ]
    }
   ],
   "source": [
    "# Q. 1 What’s the difference between pop() and remove() in Python lists?\n",
    "\n",
    "numbers = [10, 20, 30, 40]\n",
    "x = numbers.pop(2) # Removes an element at a specific index (default is the last item).\n",
    "print(x)         # Output: 30\n",
    "print(numbers)\n",
    "\n",
    "numbers = [10, 20, 30, 20]\n",
    "numbers.remove(20)  # remove specific values\n",
    "print(numbers)"
   ]
  },
  {
   "cell_type": "code",
   "execution_count": 3,
   "metadata": {
    "colab": {
     "base_uri": "https://localhost:8080/"
    },
    "id": "s21-uzwXbYyi",
    "outputId": "f516aad4-7b3c-4abc-a8aa-0392be77dda3"
   },
   "outputs": [
    {
     "name": "stdout",
     "output_type": "stream",
     "text": [
      "[1, 4, 9, 16]\n"
     ]
    }
   ],
   "source": [
    "# Q.2 List comprehensions provide a concise way to create lists. Create a list which stores the square values up to a given number N. Eg. L= [1,4,9,16], N=4.\n",
    "# Given number\n",
    "N = 4\n",
    "\n",
    "# List comprehension to store square values up to N\n",
    "L = [i**2 for i in range(1, N + 1)]\n",
    "\n",
    "# Print the result\n",
    "print(L)"
   ]
  },
  {
   "cell_type": "code",
   "execution_count": 71,
   "metadata": {
    "colab": {
     "base_uri": "https://localhost:8080/"
    },
    "id": "3oxN2D0Aa295",
    "outputId": "ab6d7d68-77b2-4ee4-daeb-196e1d77d38e"
   },
   "outputs": [
    {
     "name": "stdout",
     "output_type": "stream",
     "text": [
      "['John', 'Doe']\n",
      "JD\n",
      "['Amit']\n",
      "A\n",
      "['Mahatma', 'Gandhi']\n",
      "MG\n"
     ]
    }
   ],
   "source": [
    "# Q. 3. Given a list of few names. Print the initials of each name.\n",
    "# List of names\n",
    "names = [\"John Doe\", \"Amit\", \"Mahatma Gandhi\"]\n",
    "\n",
    "\n",
    "# Print initials\n",
    "for name in names:\n",
    "    parts = name.split()\n",
    "    print(parts)\n",
    "    initials = ''.join([part[0].upper() for part in parts])\n",
    "    print(initials)"
   ]
  },
  {
   "cell_type": "code",
   "execution_count": 70,
   "metadata": {
    "colab": {
     "base_uri": "https://localhost:8080/"
    },
    "id": "WCiJ8mu7wiBi",
    "outputId": "9b615892-bd57-468b-92e0-759dfc757034"
   },
   "outputs": [
    {
     "name": "stdout",
     "output_type": "stream",
     "text": [
      "[2, 5, 6, 7, 'Apple', 'one']\n",
      "[0, 100, 18, 2, 25, 'Apple', 'one', 'zero']\n"
     ]
    }
   ],
   "source": [
    "'''\n",
    "list=[5,6,7,\"eight\",2]\n",
    "\n",
    "list.sort()\n",
    "\n",
    "print(list)  list.sort()\n",
    "\n",
    "TypeError: '<' not supported between instances of 'str' and 'int'\n",
    "\n",
    "'''\n",
    "\n",
    "data = [5, 6, 7, \"one\", 2, \"Apple\"]\n",
    "sorted_data = sorted(data, key=str)\n",
    "print(sorted_data)\n",
    "\n",
    "\n",
    "\n",
    "\n",
    "\n",
    "data = [18, 25, 0, 100, \"one\", 2, \"Apple\", \"zero\" ]\n",
    "\n",
    "sorted_data = sorted(data, key=str)\n",
    "\n",
    "print(sorted_data)"
   ]
  },
  {
   "cell_type": "code",
   "execution_count": 37,
   "metadata": {},
   "outputs": [
    {
     "name": "stdout",
     "output_type": "stream",
     "text": [
      "[1, 2, 5, 6]\n"
     ]
    }
   ],
   "source": [
    "a = [1, 2, 4, 5, 6]\n",
    "a.pop(2)\n",
    "print(a)\n"
   ]
  },
  {
   "cell_type": "code",
   "execution_count": 39,
   "metadata": {},
   "outputs": [
    {
     "name": "stdout",
     "output_type": "stream",
     "text": [
      "[1, 2, 4, 5, 6]\n"
     ]
    }
   ],
   "source": [
    "a = [1, 2, 2, 4, 5, 6]\n",
    "b = list(set(a))\n",
    "print(b)"
   ]
  },
  {
   "cell_type": "code",
   "execution_count": 43,
   "metadata": {},
   "outputs": [
    {
     "name": "stdout",
     "output_type": "stream",
     "text": [
      "!dlrow ,olleH\n"
     ]
    },
    {
     "data": {
      "text/plain": [
       "'yth'"
      ]
     },
     "execution_count": 43,
     "metadata": {},
     "output_type": "execute_result"
    }
   ],
   "source": [
    "text = \"Hello, world!\"\n",
    "reversed_text = text[::-1]\n",
    "print(reversed_text)\n",
    "\n",
    "\n",
    "str = \"python\"\n",
    "str[1:4]"
   ]
  },
  {
   "cell_type": "markdown",
   "metadata": {
    "id": "TBkXKx8saZeg"
   },
   "source": []
  },
  {
   "cell_type": "markdown",
   "metadata": {
    "id": "v__r7pqdaZjK"
   },
   "source": []
  }
 ],
 "metadata": {
  "colab": {
   "provenance": []
  },
  "kernelspec": {
   "display_name": "Python 3 (ipykernel)",
   "language": "python",
   "name": "python3"
  },
  "language_info": {
   "codemirror_mode": {
    "name": "ipython",
    "version": 3
   },
   "file_extension": ".py",
   "mimetype": "text/x-python",
   "name": "python",
   "nbconvert_exporter": "python",
   "pygments_lexer": "ipython3",
   "version": "3.9.7"
  }
 },
 "nbformat": 4,
 "nbformat_minor": 1
}
